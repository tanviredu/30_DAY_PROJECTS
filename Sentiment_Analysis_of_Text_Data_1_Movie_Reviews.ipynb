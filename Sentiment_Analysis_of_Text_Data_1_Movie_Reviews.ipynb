{
  "nbformat": 4,
  "nbformat_minor": 0,
  "metadata": {
    "colab": {
      "provenance": []
    },
    "kernelspec": {
      "name": "python3",
      "display_name": "Python 3"
    },
    "language_info": {
      "name": "python"
    }
  },
  "cells": [
    {
      "cell_type": "code",
      "execution_count": 36,
      "metadata": {
        "colab": {
          "base_uri": "https://localhost:8080/"
        },
        "id": "2hibSXJPR4cH",
        "outputId": "9458c42e-df39-4056-947a-59f61ccdb7c6"
      },
      "outputs": [
        {
          "output_type": "stream",
          "name": "stderr",
          "text": [
            "[nltk_data] Downloading package movie_reviews to /root/nltk_data...\n",
            "[nltk_data]   Package movie_reviews is already up-to-date!\n",
            "[nltk_data] Downloading package punkt_tab to /root/nltk_data...\n",
            "[nltk_data]   Unzipping tokenizers/punkt_tab.zip.\n",
            "[nltk_data] Downloading package stopwords to /root/nltk_data...\n",
            "[nltk_data]   Package stopwords is already up-to-date!\n"
          ]
        },
        {
          "output_type": "execute_result",
          "data": {
            "text/plain": [
              "True"
            ]
          },
          "metadata": {},
          "execution_count": 36
        }
      ],
      "source": [
        "import nltk\n",
        "import random\n",
        "from nltk.corpus import movie_reviews\n",
        "from nltk.classify import NaiveBayesClassifier\n",
        "from nltk.classify.util import accuracy as nltk_accuracy\n",
        "from nltk.corpus import stopwords\n",
        "nltk.download('movie_reviews')\n",
        "nltk.download(\"punkt_tab\")\n",
        "nltk.download('stopwords')"
      ]
    },
    {
      "cell_type": "code",
      "source": [
        "def extract_features(words):\n",
        "  features = {}\n",
        "  for word in words:\n",
        "    features[word] = True\n",
        "  return features"
      ],
      "metadata": {
        "id": "4HozUq441rPY"
      },
      "execution_count": 22,
      "outputs": []
    },
    {
      "cell_type": "code",
      "source": [
        "documents = []\n",
        "for category in movie_reviews.categories():\n",
        "  for fileid in movie_reviews.fileids(category):\n",
        "    words = list(movie_reviews.words(fileid))\n",
        "    documents.append((words,category))"
      ],
      "metadata": {
        "id": "hAYdFT_t2y1y"
      },
      "execution_count": 23,
      "outputs": []
    },
    {
      "cell_type": "code",
      "source": [
        "random.shuffle(documents)"
      ],
      "metadata": {
        "id": "3wV0E_lT2s1e"
      },
      "execution_count": 26,
      "outputs": []
    },
    {
      "cell_type": "code",
      "source": [
        "featureset = []\n",
        "for (d,c) in documents:\n",
        "  features = extract_features(d)\n",
        "  featureset.append((features,c))"
      ],
      "metadata": {
        "id": "dE-48iIM7Bva"
      },
      "execution_count": 27,
      "outputs": []
    },
    {
      "cell_type": "code",
      "source": [
        "train_set,test_set = featureset[:1600],featureset[1600:]"
      ],
      "metadata": {
        "id": "3PBhRVYW2vxL"
      },
      "execution_count": 31,
      "outputs": []
    },
    {
      "cell_type": "code",
      "source": [
        "classifier = NaiveBayesClassifier.train(train_set)\n",
        "accuracy = nltk_accuracy(classifier,test_set)\n",
        "print(\"Accuracy : {}\".format(accuracy*100))"
      ],
      "metadata": {
        "colab": {
          "base_uri": "https://localhost:8080/"
        },
        "id": "kFCRL4Qd6SNE",
        "outputId": "93b59329-be61-4ab4-cf52-bde3e57273c3"
      },
      "execution_count": 32,
      "outputs": [
        {
          "output_type": "stream",
          "name": "stdout",
          "text": [
            "Accuracy : 71.25\n"
          ]
        }
      ]
    },
    {
      "cell_type": "code",
      "source": [
        "classifier.show_most_informative_features(10)"
      ],
      "metadata": {
        "id": "eWKChHRt8SzJ",
        "outputId": "5bd824e7-f09e-413b-bff0-f16e646f10fb",
        "colab": {
          "base_uri": "https://localhost:8080/"
        }
      },
      "execution_count": 33,
      "outputs": [
        {
          "output_type": "stream",
          "name": "stdout",
          "text": [
            "Most Informative Features\n",
            "             outstanding = True              pos : neg    =     14.2 : 1.0\n",
            "                   anger = True              pos : neg    =     12.2 : 1.0\n",
            "                  avoids = True              pos : neg    =     11.9 : 1.0\n",
            "             fascination = True              pos : neg    =     10.6 : 1.0\n",
            "                    slip = True              pos : neg    =     10.6 : 1.0\n",
            "                    3000 = True              neg : pos    =     10.0 : 1.0\n",
            "              schumacher = True              neg : pos    =     10.0 : 1.0\n",
            "                   damon = True              pos : neg    =      9.5 : 1.0\n",
            "                  annual = True              pos : neg    =      9.3 : 1.0\n",
            "                 matches = True              pos : neg    =      9.3 : 1.0\n"
          ]
        }
      ]
    },
    {
      "cell_type": "code",
      "source": [
        "def analyze_sentiment(text):\n",
        "  words = nltk.word_tokenize(text)\n",
        "  words = [w for w in words if w not in stopwords.words(\"english\")]\n",
        "  features = extract_features(words)\n",
        "  return classifier.classify(features)"
      ],
      "metadata": {
        "id": "J1UI1J5c8brK"
      },
      "execution_count": 34,
      "outputs": []
    },
    {
      "cell_type": "code",
      "source": [
        "print(analyze_sentiment(\"Your content is horrible\"))\n",
        "print(analyze_sentiment(\"Your content is good\"))\n",
        "print(analyze_sentiment(\"Your content is OK\"))"
      ],
      "metadata": {
        "id": "qUxooG4G8-mF",
        "outputId": "9d6a7b6b-230d-4d36-d7ab-37e6bd69db30",
        "colab": {
          "base_uri": "https://localhost:8080/"
        }
      },
      "execution_count": 40,
      "outputs": [
        {
          "output_type": "stream",
          "name": "stdout",
          "text": [
            "neg\n",
            "pos\n",
            "pos\n"
          ]
        }
      ]
    },
    {
      "cell_type": "code",
      "source": [],
      "metadata": {
        "id": "ahvt0pQB9C-2"
      },
      "execution_count": null,
      "outputs": []
    }
  ]
}