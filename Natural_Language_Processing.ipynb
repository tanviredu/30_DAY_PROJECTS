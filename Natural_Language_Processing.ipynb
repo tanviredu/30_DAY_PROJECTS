{
  "nbformat": 4,
  "nbformat_minor": 0,
  "metadata": {
    "colab": {
      "provenance": [],
      "authorship_tag": "ABX9TyNBcbco74rkCW7XDfCLoTYl",
      "include_colab_link": true
    },
    "kernelspec": {
      "name": "python3",
      "display_name": "Python 3"
    },
    "language_info": {
      "name": "python"
    }
  },
  "cells": [
    {
      "cell_type": "markdown",
      "metadata": {
        "id": "view-in-github",
        "colab_type": "text"
      },
      "source": [
        "<a href=\"https://colab.research.google.com/github/tanviredu/30_DAY_PROJECTS/blob/main/Natural_Language_Processing.ipynb\" target=\"_parent\"><img src=\"https://colab.research.google.com/assets/colab-badge.svg\" alt=\"Open In Colab\"/></a>"
      ]
    },
    {
      "cell_type": "markdown",
      "source": [
        "## Removing Punctuation from a sentence"
      ],
      "metadata": {
        "id": "uuJLxnZuPS6V"
      }
    },
    {
      "cell_type": "code",
      "source": [],
      "metadata": {
        "id": "EXmpfiknOZk8"
      },
      "execution_count": 4,
      "outputs": []
    },
    {
      "cell_type": "code",
      "source": [
        "import string\n",
        "#function\n",
        "def remove_punc(sentence):\n",
        "  cleaned_sentence = \"\"\n",
        "  for i in sentence:\n",
        "    if i not in string.punctuation:\n",
        "      cleaned_sentence+=i\n",
        "  return cleaned_sentence\n",
        "\n",
        "#application\n",
        "\n",
        "test_case1 = \"Hi? How. are You.\"\n",
        "test_case2 = \"!Hi. wha?t is the weath[er] like\"\n",
        "print(remove_punc(test_case1))\n",
        "print(remove_punc(test_case2))\n"
      ],
      "metadata": {
        "colab": {
          "base_uri": "https://localhost:8080/"
        },
        "id": "Tk9jfcV2OdbG",
        "outputId": "406c956c-6e2b-43ac-bd38-cc5c8af90232"
      },
      "execution_count": 5,
      "outputs": [
        {
          "output_type": "stream",
          "name": "stdout",
          "text": [
            "Hi How are You\n",
            "Hi what is the weather like\n"
          ]
        }
      ]
    },
    {
      "cell_type": "markdown",
      "source": [
        "## Removing Typos"
      ],
      "metadata": {
        "id": "w4C2eRbSTaGX"
      }
    },
    {
      "cell_type": "code",
      "source": [
        "!pip install autocorrect\n",
        "from autocorrect import Speller\n",
        "spell = Speller(lang='en')\n",
        "\n",
        "#fucntion\n",
        "def spell_fix(sentence):\n",
        "  new_sentence = \"\"\n",
        "  for i in sentence.split():\n",
        "    new_sentence+= spell(i)+\" \"\n",
        "  return new_sentence\n",
        "\n",
        "# application\n",
        "# remember it can not fix allspelling\n",
        "# not very reliable in preprocessing\n",
        "\n",
        "\n",
        "test_case1 = \"Caar\"\n",
        "test_case2 = \"Buus\"\n",
        "print(spell_fix(test_case1))\n",
        "print(spell_fix(test_case2))\n"
      ],
      "metadata": {
        "colab": {
          "base_uri": "https://localhost:8080/"
        },
        "id": "n3L0NZImPMAS",
        "outputId": "96a1fe18-5ad3-4805-d8e8-ec1de5dc24a2"
      },
      "execution_count": 10,
      "outputs": [
        {
          "output_type": "stream",
          "name": "stdout",
          "text": [
            "Requirement already satisfied: autocorrect in /usr/local/lib/python3.10/dist-packages (2.6.1)\n",
            "Car \n",
            "Bus \n"
          ]
        }
      ]
    },
    {
      "cell_type": "markdown",
      "source": [
        "## Removing Stop Words"
      ],
      "metadata": {
        "id": "ZFSiDmG1WR4d"
      }
    },
    {
      "cell_type": "code",
      "source": [],
      "metadata": {
        "id": "CizkTQVtVMtV"
      },
      "execution_count": null,
      "outputs": []
    }
  ]
}